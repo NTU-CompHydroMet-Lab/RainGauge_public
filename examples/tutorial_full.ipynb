{
 "cells": [
  {
   "attachments": {},
   "cell_type": "markdown",
   "metadata": {},
   "source": [
    "This is example for query OTT Parsivel_2 data from our lab\n",
    "==========================================================\n"
   ]
  },
  {
   "cell_type": "code",
   "execution_count": 1,
   "metadata": {},
   "outputs": [],
   "source": [
    "import influxdb_client, os, time\n",
    "from datetime import datetime, timedelta, timezone\n",
    "from influxdb_client import InfluxDBClient, Point\n",
    "from influxdb_client.client.write_api import SYNCHRONOUS\n",
    "\n",
    "token = \"fP-GBq8Z1wZE7iW8qFBuxVy-ArVP9TqVec0naJ77XLECiwSr82aRXqvo3ylXZqU_2ad2vxWGcMoMbl3PXqAZ7A==\"\n",
    "server_url = \"http://140.112.12.62:8086\"\n",
    "client = InfluxDBClient(url=server_url, token=token)\n",
    "query_api = client.query_api()"
   ]
  },
  {
   "attachments": {},
   "cell_type": "markdown",
   "metadata": {},
   "source": [
    "### Query raw data of DSD. (number-diameter)\n",
    "In this block. We used `query_api.query()` function.  \n",
    "Return a list `FluxTable` wrapped into a `TableList`"
   ]
  },
  {
   "cell_type": "code",
   "execution_count": 2,
   "metadata": {},
   "outputs": [],
   "source": [
    "import numpy as np\n",
    "import matplotlib.pyplot as plt\n",
    "\n",
    "query = 'from(bucket: \"OTT_Parsivel_2\")\\\n",
    "    |> range(start: -1d)\\\n",
    "    |> filter(fn:(r) => r._measurement == \"raw_particle\")\\\n",
    "    |> drop(columns: [\"_start\", \"_stop\"])'\n",
    "\n",
    "result = query_api.query(org=\"NTUCE\", query = query)\n",
    "## Return type of query_api.query is a TableList object"
   ]
  },
  {
   "attachments": {},
   "cell_type": "markdown",
   "metadata": {},
   "source": [
    "### Structure of TableList\n",
    "`TableList` is basically a list of `FluxTable` with additional features.  \n",
    "`FluxTable` is a iterator about `FluxRecord` object with additional info.  \n",
    "`FluxRecord` is a dict like object represent one single record point with some additional features."
   ]
  },
  {
   "cell_type": "code",
   "execution_count": 3,
   "metadata": {},
   "outputs": [
    {
     "name": "stdout",
     "output_type": "stream",
     "text": [
      "query() return a TableList object\n"
     ]
    },
    {
     "ename": "IndexError",
     "evalue": "list index out of range",
     "output_type": "error",
     "traceback": [
      "\u001b[0;31m---------------------------------------------------------------------------\u001b[0m",
      "\u001b[0;31mIndexError\u001b[0m                                Traceback (most recent call last)",
      "Cell \u001b[0;32mIn[3], line 2\u001b[0m\n\u001b[1;32m      1\u001b[0m \u001b[39mprint\u001b[39m(\u001b[39mf\u001b[39m\u001b[39m'\u001b[39m\u001b[39mquery() return a \u001b[39m\u001b[39m{\u001b[39;00m\u001b[39mtype\u001b[39m(result)\u001b[39m.\u001b[39m\u001b[39m__name__\u001b[39m\u001b[39m}\u001b[39;00m\u001b[39m object\u001b[39m\u001b[39m'\u001b[39m)\n\u001b[0;32m----> 2\u001b[0m \u001b[39mprint\u001b[39m(\u001b[39mf\u001b[39m\u001b[39m'\u001b[39m\u001b[39mInside TableList object, there are \u001b[39m\u001b[39m{\u001b[39;00m\u001b[39mlen\u001b[39m(result)\u001b[39m}\u001b[39;00m\u001b[39m of \u001b[39m\u001b[39m{\u001b[39;00m\u001b[39mtype\u001b[39m(result[\u001b[39m0\u001b[39m])\u001b[39m.\u001b[39m\u001b[39m__name__\u001b[39m\u001b[39m}\u001b[39;00m\u001b[39m objects\u001b[39m\u001b[39m'\u001b[39m)\n\u001b[1;32m      3\u001b[0m \u001b[39mprint\u001b[39m(\u001b[39mf\u001b[39m\u001b[39m'\u001b[39m\u001b[39mIn the first FluxTable object, there are \u001b[39m\u001b[39m{\u001b[39;00m\u001b[39mlen\u001b[39m(result[\u001b[39m0\u001b[39m]\u001b[39m.\u001b[39mrecords)\u001b[39m}\u001b[39;00m\u001b[39m of \u001b[39m\u001b[39m{\u001b[39;00m\u001b[39mtype\u001b[39m(result[\u001b[39m0\u001b[39m]\u001b[39m.\u001b[39mrecords[\u001b[39m0\u001b[39m])\u001b[39m.\u001b[39m\u001b[39m__name__\u001b[39m\u001b[39m}\u001b[39;00m\u001b[39m objects\u001b[39m\u001b[39m'\u001b[39m)\n\u001b[1;32m      4\u001b[0m \u001b[39mprint\u001b[39m(\u001b[39mf\u001b[39m\u001b[39m'\u001b[39m\u001b[39mIn the first FluxRecord object, there is a dict represent the data point.\u001b[39m\u001b[39m\\n\u001b[39;00m\u001b[39mLike this: \u001b[39m\u001b[39m{\u001b[39;00mresult[\u001b[39m0\u001b[39m]\u001b[39m.\u001b[39mrecords[\u001b[39m0\u001b[39m]\u001b[39m.\u001b[39mvalues\u001b[39m}\u001b[39;00m\u001b[39m'\u001b[39m)\n",
      "\u001b[0;31mIndexError\u001b[0m: list index out of range"
     ]
    }
   ],
   "source": [
    "print(f'query() return a {type(result).__name__} object')\n",
    "print(f'Inside TableList object, there are {len(result)} of {type(result[0]).__name__} objects')\n",
    "print(f'In the first FluxTable object, there are {len(result[0].records)} of {type(result[0].records[0]).__name__} objects')\n",
    "print(f'In the first FluxRecord object, there is a dict represent the data point.\\nLike this: {result[0].records[0].values}')"
   ]
  },
  {
   "attachments": {},
   "cell_type": "markdown",
   "metadata": {},
   "source": [
    "### Process TableList object\n",
    "We can do several process to TableList object.  \n",
    "- Parse to list of dict_value.\n",
    "- Parse to .json formatted string.\n",
    "- Process by yourself."
   ]
  },
  {
   "cell_type": "markdown",
   "metadata": {},
   "source": []
  },
  {
   "attachments": {},
   "cell_type": "markdown",
   "metadata": {},
   "source": [
    "### Parse to list of dict_value\n",
    "We can turn `TableList` to list of `dict_value`.  \n",
    "But it lost the column name.\n",
    "So you better know which column you want to get at the beginning."
   ]
  },
  {
   "cell_type": "code",
   "execution_count": 99,
   "metadata": {},
   "outputs": [
    {
     "name": "stdout",
     "output_type": "stream",
     "text": [
      "First data point: [datetime.datetime(2023, 3, 27, 19, 30, 50, tzinfo=tzutc()), 'Number', 1, '10', '14']\n",
      "Shape of parsed list: (15550, 5)\n"
     ]
    }
   ],
   "source": [
    "## Parse TableList object to a list of dict_values object (like a set)\n",
    "result_dict_value = result.to_values(columns=['_time', '_field', '_value', 'Diameter Class', 'Speed Class'])\n",
    "\n",
    "## To make list of dict_values object to a list\n",
    "result_list = [list(dict_value) for dict_value in result_dict_value]\n",
    "\n",
    "## Print the first data point\n",
    "print(f'First data point: {result_list[0]}')\n",
    "print(f'Shape of parsed list: {np.shape(result_list)}')\n"
   ]
  },
  {
   "attachments": {},
   "cell_type": "markdown",
   "metadata": {},
   "source": [
    "### Parse to .json object\n",
    "This is the most convenient way to process `TableList`.  \n",
    "But it will take more time and memory to process.  \n",
    "And initially it's a str formatted in json format."
   ]
  },
  {
   "cell_type": "code",
   "execution_count": 111,
   "metadata": {},
   "outputs": [
    {
     "name": "stdout",
     "output_type": "stream",
     "text": [
      "Type of return of to_json() <class 'str'>\n",
      "Char num of .json like str object: 3437204\n",
      "First data point json object:\n",
      "Diameter: 10\n",
      "Speed: 14\n",
      "Number: 1\n"
     ]
    }
   ],
   "source": [
    "import json\n",
    "\n",
    "## Parse TableList object to .json object\n",
    "result_str = result.to_json()\n",
    "print(f'Type of return of to_json() {type(result_str)}')\n",
    "print(f'Char num of .json like str object: {len(result_str)}')\n",
    "\n",
    "## Write .json like str object to a .json file\n",
    "with open('result/result.json', 'w') as f:\n",
    "    f.write(result_str)\n",
    "    \n",
    "## Turn .json like str object to a .json object\n",
    "result_json = json.loads(result_str)\n",
    "key_diameter = 'Diameter Class'\n",
    "key_speed = 'Speed Class'\n",
    "key_value = '_value'\n",
    "print(f'First data point json object:\\nDiameter: {result_json[0][key_diameter]}\\nSpeed: {result_json[0][key_speed]}\\nNumber: {result_json[0][key_value]}')"
   ]
  },
  {
   "attachments": {},
   "cell_type": "markdown",
   "metadata": {},
   "source": [
    "### Process by yourself\n",
    "You can process `TableList` object by yourself.  \n",
    "In this example, we query DSD data.  \n",
    "DSD is 2-dimension data. 1st dimension is speed, 2nd `dimension` is `diameter`.  \n",
    "And the value is the number of particles in this bin.  \n",
    "\n",
    "Note that in a single `FluxTable`. All records have the same **tags** and **fields**.  \n",
    "So we can use the first record to get the **tags**.  \n",
    "Use tag information to determine where to store the number of particle data.  "
   ]
  },
  {
   "cell_type": "code",
   "execution_count": 110,
   "metadata": {},
   "outputs": [
    {
     "data": {
      "image/png": "[encoded data removed]",
      "text/plain": [
       "<Figure size 640x480 with 1 Axes>"
      ]
     },
     "metadata": {},
     "output_type": "display_data"
    }
   ],
   "source": [
    "particle_count_self = np.zeros((32, 32))\n",
    "for table in result:\n",
    "    diame_class = int(table.records[0].values[\"Diameter Class\"])\n",
    "    speed_class = int(table.records[0].values[\"Speed Class\"])\n",
    "    for record in table.records:\n",
    "        particle_count_self[speed_class, diame_class] += record.get_value()\n",
    "\n",
    "plt.figure()\n",
    "plt.pcolormesh(particle_count_self, cmap='cool')\n",
    "plt.show()"
   ]
  },
  {
   "attachments": {},
   "cell_type": "markdown",
   "metadata": {},
   "source": [
    "### Plot the same DSD data using result_list"
   ]
  },
  {
   "cell_type": "code",
   "execution_count": 113,
   "metadata": {},
   "outputs": [
    {
     "data": {
      "image/png": "[encoded data removed]",
      "text/plain": [
       "<Figure size 640x480 with 1 Axes>"
      ]
     },
     "metadata": {},
     "output_type": "display_data"
    }
   ],
   "source": [
    "particle_count_list = np.zeros((32, 32))\n",
    "\n",
    "for i in range(len(result_list)):\n",
    "    particle_count_list[int(result_list[i][4]), int(result_list[i][3])] += result_list[i][2]\n",
    "\n",
    "plt.figure()\n",
    "plt.pcolormesh(particle_count_list, cmap='cool')\n",
    "plt.show()\n"
   ]
  },
  {
   "attachments": {},
   "cell_type": "markdown",
   "metadata": {},
   "source": [
    "### Plot the same DSD data using result_json"
   ]
  },
  {
   "cell_type": "code",
   "execution_count": null,
   "metadata": {},
   "outputs": [
    {
     "data": {
      "image/png": "[encoded data removed]",
      "text/plain": [
       "<Figure size 640x480 with 1 Axes>"
      ]
     },
     "metadata": {},
     "output_type": "display_data"
    }
   ],
   "source": [
    "particle_count_json = np.zeros((32, 32))\n",
    "\n",
    "key_diameter = 'Diameter Class'\n",
    "key_speed = 'Speed Class'\n",
    "key_value = '_value'\n",
    "for i in range(len(result_json)):\n",
    "    particle_count_json[int(result_json[i][key_speed]), int(result_json[i][key_diameter])] += result_json[i][key_value]\n",
    "\n",
    "plt.figure()\n",
    "plt.pcolormesh(particle_count_json, cmap='inferno')\n",
    "plt.show()"
   ]
  }
 ],
 "metadata": {
  "kernelspec": {
   "display_name": "gauge_server",
   "language": "python",
   "name": "python3"
  },
  "language_info": {
   "codemirror_mode": {
    "name": "ipython",
    "version": 3
   },
   "file_extension": ".py",
   "mimetype": "text/x-python",
   "name": "python",
   "nbconvert_exporter": "python",
   "pygments_lexer": "ipython3",
   "version": "3.10.8"
  },
  "orig_nbformat": 4,
  "vscode": {
   "interpreter": {
    "hash": "5b4af65f0daa19427af03bf2ab4ea2e091a9a02f48f19ded49dc3b3b6e986110"
   }
  }
 },
 "nbformat": 4,
 "nbformat_minor": 2
}
